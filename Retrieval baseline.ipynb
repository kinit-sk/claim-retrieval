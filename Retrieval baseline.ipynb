{
 "cells": [
  {
   "cell_type": "code",
   "execution_count": 1,
   "metadata": {},
   "outputs": [],
   "source": [
    "import pandas as pd"
   ]
  },
  {
   "cell_type": "code",
   "execution_count": 2,
   "metadata": {},
   "outputs": [],
   "source": [
    "df = pd.read_csv('./results/final/pipeline/sampled_posts-mistral-123b-k_50.csv')\n",
    "df_mapping = pd.read_csv('./datasets/multiclaim/fact_check_post_mapping.csv')\n",
    "df['fact_check_ids'] = df['fact_check_ids'].apply(eval)\n",
    "df['fact_check_claims'] = df['fact_check_claims'].apply(eval)\n",
    "temp_df = pd.DataFrame()\n",
    "\n",
    "for index, row in df.iterrows():\n",
    "    post_id = row['post_id']\n",
    "    fact_check_ids = row['fact_check_ids']\n",
    "    fact_cehck_claims = row['fact_check_claims']\n",
    "    post_text = row['post']\n",
    "    for claim, fact_check_id in zip(fact_cehck_claims, fact_check_ids):\n",
    "        temp_df = pd.concat([temp_df, pd.DataFrame({\n",
    "            'post_id': [post_id],\n",
    "            'fact_check_text': [claim],\n",
    "            'fact_check_id': [fact_check_id],\n",
    "            'post_text': [post_text]\n",
    "        })])\n",
    "        \n",
    "temp_df['rating'] = ''\n",
    "temp_df = temp_df.reset_index(drop=True)\n",
    "\n",
    "for index, row in temp_df.iterrows():\n",
    "    post_id = row['post_id']\n",
    "    fact_check_id = row['fact_check_id']\n",
    "    found = df_mapping[(df_mapping['fact_check_id'] == fact_check_id) & ((df_mapping['post_id'] == post_id))]\n",
    "    if found.shape[0] > 0:\n",
    "        temp_df.at[index, 'rating'] = 'Yes'\n",
    "    else:\n",
    "        temp_df.at[index, 'rating'] = 'No'"
   ]
  },
  {
   "cell_type": "code",
   "execution_count": null,
   "metadata": {},
   "outputs": [],
   "source": [
    "temp_df.to_csv('./baseline.csv', index=False)"
   ]
  }
 ],
 "metadata": {
  "kernelspec": {
   "display_name": "disai-multi",
   "language": "python",
   "name": "python3"
  },
  "language_info": {
   "codemirror_mode": {
    "name": "ipython",
    "version": 3
   },
   "file_extension": ".py",
   "mimetype": "text/x-python",
   "name": "python",
   "nbconvert_exporter": "python",
   "pygments_lexer": "ipython3",
   "version": "3.12.4"
  }
 },
 "nbformat": 4,
 "nbformat_minor": 2
}
