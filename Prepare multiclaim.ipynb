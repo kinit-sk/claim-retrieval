{
 "cells": [
  {
   "cell_type": "code",
   "execution_count": null,
   "metadata": {},
   "outputs": [],
   "source": [
    "import pandas as pd\n",
    "from urllib.parse import urlparse\n",
    "\n",
    "\n",
    "def get_domain(url: str) -> str:\n",
    "    \"\"\"Extracts the domain from a given URL.\"\"\"\n",
    "    parsed_url = urlparse(url)\n",
    "    return parsed_url.netloc"
   ]
  },
  {
   "cell_type": "code",
   "execution_count": null,
   "metadata": {},
   "outputs": [],
   "source": [
    "df = pd.read_csv('./datasets/multiclaim/fact_checks.csv')\n",
    "df_metadata = pd.read_csv('./datasets/multiclaim/fact_checks_metadata.csv')\n",
    "df = df.merge(df_metadata, how='left', on='fact_check_id')\n",
    "df['domain'] = df['url'].apply(lambda x: get_domain(x))\n"
   ]
  },
  {
   "cell_type": "code",
   "execution_count": null,
   "metadata": {},
   "outputs": [],
   "source": [
    "df.to_csv('./datasets/multiclaim/fact_checks_peprocessed.csv', index=False)"
   ]
  },
  {
   "cell_type": "code",
   "execution_count": null,
   "metadata": {},
   "outputs": [],
   "source": []
  }
 ],
 "metadata": {
  "kernelspec": {
   "display_name": "disai-multi",
   "language": "python",
   "name": "python3"
  },
  "language_info": {
   "codemirror_mode": {
    "name": "ipython",
    "version": 3
   },
   "file_extension": ".py",
   "mimetype": "text/x-python",
   "name": "python",
   "nbconvert_exporter": "python",
   "pygments_lexer": "ipython3",
   "version": "3.12.4"
  }
 },
 "nbformat": 4,
 "nbformat_minor": 2
}
